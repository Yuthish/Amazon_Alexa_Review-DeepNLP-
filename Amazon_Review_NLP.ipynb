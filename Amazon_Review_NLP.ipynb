{
  "nbformat": 4,
  "nbformat_minor": 0,
  "metadata": {
    "colab": {
      "name": "Amazon_Review_NLP.ipynb",
      "provenance": [],
      "collapsed_sections": []
    },
    "kernelspec": {
      "name": "python3",
      "display_name": "Python 3"
    }
  },
  "cells": [
    {
      "cell_type": "code",
      "metadata": {
        "id": "DbmbZ0eqbTIC",
        "colab_type": "code",
        "colab": {}
      },
      "source": [
        "import numpy as np\n",
        "import pandas as pd\n",
        "import matplotlib.pyplot as plt\n",
        "import tensorflow as tf"
      ],
      "execution_count": 1,
      "outputs": []
    },
    {
      "cell_type": "code",
      "metadata": {
        "id": "4pPaqDdUb2UM",
        "colab_type": "code",
        "colab": {
          "base_uri": "https://localhost:8080/",
          "height": 571
        },
        "outputId": "3beca840-b626-4973-89fe-2c3fc9bdd9b9"
      },
      "source": [
        "dataset=pd.read_csv('amazon_alexa.tsv',delimiter='\\t',quoting=3)\n",
        "dataset.drop(columns=dataset.iloc[:,:3],axis=1,inplace=True)\n",
        "dataset.info()\n",
        "dataset"
      ],
      "execution_count": 2,
      "outputs": [
        {
          "output_type": "stream",
          "text": [
            "<class 'pandas.core.frame.DataFrame'>\n",
            "RangeIndex: 3150 entries, 0 to 3149\n",
            "Data columns (total 2 columns):\n",
            " #   Column            Non-Null Count  Dtype \n",
            "---  ------            --------------  ----- \n",
            " 0   verified_reviews  3150 non-null   object\n",
            " 1   feedback          3150 non-null   int64 \n",
            "dtypes: int64(1), object(1)\n",
            "memory usage: 49.3+ KB\n"
          ],
          "name": "stdout"
        },
        {
          "output_type": "execute_result",
          "data": {
            "text/html": [
              "<div>\n",
              "<style scoped>\n",
              "    .dataframe tbody tr th:only-of-type {\n",
              "        vertical-align: middle;\n",
              "    }\n",
              "\n",
              "    .dataframe tbody tr th {\n",
              "        vertical-align: top;\n",
              "    }\n",
              "\n",
              "    .dataframe thead th {\n",
              "        text-align: right;\n",
              "    }\n",
              "</style>\n",
              "<table border=\"1\" class=\"dataframe\">\n",
              "  <thead>\n",
              "    <tr style=\"text-align: right;\">\n",
              "      <th></th>\n",
              "      <th>verified_reviews</th>\n",
              "      <th>feedback</th>\n",
              "    </tr>\n",
              "  </thead>\n",
              "  <tbody>\n",
              "    <tr>\n",
              "      <th>0</th>\n",
              "      <td>Love my Echo!</td>\n",
              "      <td>1</td>\n",
              "    </tr>\n",
              "    <tr>\n",
              "      <th>1</th>\n",
              "      <td>Loved it!</td>\n",
              "      <td>1</td>\n",
              "    </tr>\n",
              "    <tr>\n",
              "      <th>2</th>\n",
              "      <td>\"Sometimes while playing a game, you can answe...</td>\n",
              "      <td>1</td>\n",
              "    </tr>\n",
              "    <tr>\n",
              "      <th>3</th>\n",
              "      <td>\"I have had a lot of fun with this thing. My 4...</td>\n",
              "      <td>1</td>\n",
              "    </tr>\n",
              "    <tr>\n",
              "      <th>4</th>\n",
              "      <td>Music</td>\n",
              "      <td>1</td>\n",
              "    </tr>\n",
              "    <tr>\n",
              "      <th>...</th>\n",
              "      <td>...</td>\n",
              "      <td>...</td>\n",
              "    </tr>\n",
              "    <tr>\n",
              "      <th>3145</th>\n",
              "      <td>\"Perfect for kids, adults and everyone in betw...</td>\n",
              "      <td>1</td>\n",
              "    </tr>\n",
              "    <tr>\n",
              "      <th>3146</th>\n",
              "      <td>\"Listening to music, searching locations, chec...</td>\n",
              "      <td>1</td>\n",
              "    </tr>\n",
              "    <tr>\n",
              "      <th>3147</th>\n",
              "      <td>\"I do love these things, i have them running m...</td>\n",
              "      <td>1</td>\n",
              "    </tr>\n",
              "    <tr>\n",
              "      <th>3148</th>\n",
              "      <td>\"Only complaint I have is that the sound quali...</td>\n",
              "      <td>1</td>\n",
              "    </tr>\n",
              "    <tr>\n",
              "      <th>3149</th>\n",
              "      <td>Good</td>\n",
              "      <td>1</td>\n",
              "    </tr>\n",
              "  </tbody>\n",
              "</table>\n",
              "<p>3150 rows × 2 columns</p>\n",
              "</div>"
            ],
            "text/plain": [
              "                                       verified_reviews  feedback\n",
              "0                                         Love my Echo!         1\n",
              "1                                             Loved it!         1\n",
              "2     \"Sometimes while playing a game, you can answe...         1\n",
              "3     \"I have had a lot of fun with this thing. My 4...         1\n",
              "4                                                 Music         1\n",
              "...                                                 ...       ...\n",
              "3145  \"Perfect for kids, adults and everyone in betw...         1\n",
              "3146  \"Listening to music, searching locations, chec...         1\n",
              "3147  \"I do love these things, i have them running m...         1\n",
              "3148  \"Only complaint I have is that the sound quali...         1\n",
              "3149                                               Good         1\n",
              "\n",
              "[3150 rows x 2 columns]"
            ]
          },
          "metadata": {
            "tags": []
          },
          "execution_count": 2
        }
      ]
    },
    {
      "cell_type": "code",
      "metadata": {
        "id": "iOG9P6z3b-zQ",
        "colab_type": "code",
        "colab": {
          "base_uri": "https://localhost:8080/",
          "height": 54
        },
        "outputId": "f4e17f9d-31b1-4746-c0c7-9b9a1a0bead4"
      },
      "source": [
        "import re\n",
        "import nltk\n",
        "nltk.download('stopwords')\n",
        "from nltk.corpus import stopwords\n",
        "from nltk.stem.porter import PorterStemmer\n",
        "corpus=[]\n",
        "for i in range(len(dataset)):\n",
        "  review=re.sub('[^a-zA-Z]',' ',dataset['verified_reviews'][i]).lower().split()\n",
        "  all_stopwords=stopwords.words('english')\n",
        "  all_stopwords.remove('not')\n",
        "  ps=PorterStemmer()\n",
        "  review=[ps.stem(words) for words in review if not words in all_stopwords]\n",
        "  review=' '.join(review)\n",
        "  corpus.append(review)\n",
        "\n",
        "\n"
      ],
      "execution_count": 3,
      "outputs": [
        {
          "output_type": "stream",
          "text": [
            "[nltk_data] Downloading package stopwords to /root/nltk_data...\n",
            "[nltk_data]   Package stopwords is already up-to-date!\n"
          ],
          "name": "stdout"
        }
      ]
    },
    {
      "cell_type": "code",
      "metadata": {
        "id": "0dcVO5CAcm_I",
        "colab_type": "code",
        "colab": {
          "base_uri": "https://localhost:8080/",
          "height": 35
        },
        "outputId": "deb64e8e-4349-4216-e7a1-437de0f24b2b"
      },
      "source": [
        "from sklearn.feature_extraction.text import TfidfVectorizer\n",
        "cv=TfidfVectorizer()\n",
        "X=cv.fit_transform(corpus).toarray()\n",
        "y=dataset.iloc[:,-1].values\n",
        "from sklearn.model_selection import train_test_split\n",
        "X_train,X_test,y_train,y_test=train_test_split(X,y,test_size=0.20)\n",
        "X_train.shape"
      ],
      "execution_count": 4,
      "outputs": [
        {
          "output_type": "execute_result",
          "data": {
            "text/plain": [
              "(2520, 2766)"
            ]
          },
          "metadata": {
            "tags": []
          },
          "execution_count": 4
        }
      ]
    },
    {
      "cell_type": "code",
      "metadata": {
        "id": "Bm-cKFvkcwtd",
        "colab_type": "code",
        "colab": {
          "base_uri": "https://localhost:8080/",
          "height": 763
        },
        "outputId": "5a93474b-e00c-4878-e6a1-d0609dc0c396"
      },
      "source": [
        "ann=tf.keras.models.Sequential()\n",
        "ann.add(tf.keras.layers.Dense(1800,activation='relu'))\n",
        "#ann.add(tf.keras.layers.Dense(200,activation='relu'))\n",
        "ann.add(tf.keras.layers.Dropout(0.20))\n",
        "ann.add(tf.keras.layers.Dense(1,activation='sigmoid'))\n",
        "ann.compile(optimizer='adam',loss='binary_crossentropy',metrics=['accuracy'])\n",
        "ann.fit(X_train,y_train,batch_size=32,epochs=20)"
      ],
      "execution_count": 15,
      "outputs": [
        {
          "output_type": "stream",
          "text": [
            "Epoch 1/20\n",
            "79/79 [==============================] - 2s 31ms/step - loss: 0.3076 - accuracy: 0.9119\n",
            "Epoch 2/20\n",
            "79/79 [==============================] - 2s 31ms/step - loss: 0.1518 - accuracy: 0.9210\n",
            "Epoch 3/20\n",
            "79/79 [==============================] - 2s 31ms/step - loss: 0.0867 - accuracy: 0.9623\n",
            "Epoch 4/20\n",
            "79/79 [==============================] - 2s 31ms/step - loss: 0.0441 - accuracy: 0.9881\n",
            "Epoch 5/20\n",
            "79/79 [==============================] - 2s 31ms/step - loss: 0.0284 - accuracy: 0.9925\n",
            "Epoch 6/20\n",
            "79/79 [==============================] - 2s 31ms/step - loss: 0.0231 - accuracy: 0.9933\n",
            "Epoch 7/20\n",
            "79/79 [==============================] - 2s 31ms/step - loss: 0.0202 - accuracy: 0.9933\n",
            "Epoch 8/20\n",
            "79/79 [==============================] - 2s 31ms/step - loss: 0.0190 - accuracy: 0.9933\n",
            "Epoch 9/20\n",
            "79/79 [==============================] - 2s 31ms/step - loss: 0.0179 - accuracy: 0.9933\n",
            "Epoch 10/20\n",
            "79/79 [==============================] - 2s 31ms/step - loss: 0.0176 - accuracy: 0.9933\n",
            "Epoch 11/20\n",
            "79/79 [==============================] - 2s 31ms/step - loss: 0.0171 - accuracy: 0.9933\n",
            "Epoch 12/20\n",
            "79/79 [==============================] - 2s 31ms/step - loss: 0.0174 - accuracy: 0.9933\n",
            "Epoch 13/20\n",
            "79/79 [==============================] - 2s 31ms/step - loss: 0.0181 - accuracy: 0.9933\n",
            "Epoch 14/20\n",
            "79/79 [==============================] - 2s 31ms/step - loss: 0.0169 - accuracy: 0.9933\n",
            "Epoch 15/20\n",
            "79/79 [==============================] - 2s 31ms/step - loss: 0.0171 - accuracy: 0.9933\n",
            "Epoch 16/20\n",
            "79/79 [==============================] - 2s 31ms/step - loss: 0.0172 - accuracy: 0.9933\n",
            "Epoch 17/20\n",
            "79/79 [==============================] - 2s 30ms/step - loss: 0.0164 - accuracy: 0.9933\n",
            "Epoch 18/20\n",
            "79/79 [==============================] - 2s 31ms/step - loss: 0.0171 - accuracy: 0.9933\n",
            "Epoch 19/20\n",
            "79/79 [==============================] - 2s 31ms/step - loss: 0.0164 - accuracy: 0.9933\n",
            "Epoch 20/20\n",
            "79/79 [==============================] - 2s 31ms/step - loss: 0.0163 - accuracy: 0.9933\n"
          ],
          "name": "stdout"
        },
        {
          "output_type": "execute_result",
          "data": {
            "text/plain": [
              "<tensorflow.python.keras.callbacks.History at 0x7fc2e1d034a8>"
            ]
          },
          "metadata": {
            "tags": []
          },
          "execution_count": 15
        }
      ]
    },
    {
      "cell_type": "code",
      "metadata": {
        "id": "B4WlFvKyeaO4",
        "colab_type": "code",
        "colab": {}
      },
      "source": [
        "msg='superb'\n",
        "new_review=re.sub('[^a-zA-Z]',' ',msg).lower().split()\n",
        "all_stopwords=stopwords.words('english')\n",
        "all_stopwords.remove('not')\n",
        "ps=PorterStemmer()\n",
        "new_review=[ps.stem(words) for words in new_review if not words in all_stopwords]\n",
        "new_review=' '.join(new_review)\n",
        "new_corpus=[new_review]\n",
        "new_X_test=cv.transform(new_corpus).toarray()\n"
      ],
      "execution_count": 35,
      "outputs": []
    },
    {
      "cell_type": "code",
      "metadata": {
        "id": "PrIxOYtshHJ7",
        "colab_type": "code",
        "colab": {
          "base_uri": "https://localhost:8080/",
          "height": 35
        },
        "outputId": "4d2b3439-bbe8-49fa-c9a6-8efcfa7b1a81"
      },
      "source": [
        "new_y_predict=ann.predict(new_X_test)\n"
      ],
      "execution_count": 40,
      "outputs": [
        {
          "output_type": "stream",
          "text": [
            "Negative\n"
          ],
          "name": "stdout"
        }
      ]
    },
    {
      "cell_type": "code",
      "metadata": {
        "id": "NH8rgaUWhP-2",
        "colab_type": "code",
        "colab": {}
      },
      "source": [
        ""
      ],
      "execution_count": 41,
      "outputs": []
    },
    {
      "cell_type": "code",
      "metadata": {
        "id": "yrwIqKvyhRWW",
        "colab_type": "code",
        "colab": {}
      },
      "source": [
        ""
      ],
      "execution_count": 7,
      "outputs": []
    }
  ]
}